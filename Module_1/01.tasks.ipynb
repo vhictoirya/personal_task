{
 "cells": [
  {
   "cell_type": "markdown",
   "id": "8ec62c92",
   "metadata": {},
   "source": [
    " Problem 1: Crypto Investment Portfolio\n",
    "\n",
    "This data structure represents a crypto investment portfolio, including various assets like tokens, stablecoins, and NFTs, along with their holdings and performance metrics.\n",
    "\n",
    "```python\n",
    "crypto_portfolio = {\n",
    "    \"investor_name\": \"Jane Doe\",\n",
    "    \"portfolio_id\": \"JD1234\",\n",
    "    \"assets\": {\n",
    "        \"tokens\": [\n",
    "            {\n",
    "                \"ticker\": \"ETH\",\n",
    "                \"quantity\": 50,\n",
    "                \"purchase_price\": 2000.00,\n",
    "                \"current_price\": 2100.00\n",
    "            },\n",
    "            {\n",
    "                \"ticker\": \"BTC\",\n",
    "                \"quantity\": 30,\n",
    "                \"purchase_price\": 40000.00,\n",
    "                \"current_price\": 41000.00\n",
    "            }\n",
    "        ],\n",
    "        \"stablecoins\": [\n",
    "            {\n",
    "                \"identifier\": \"USDC\",\n",
    "                \"quantity\": 10000,\n",
    "                \"purchase_price\": 1.00,\n",
    "                \"current_price\": 1.00,\n",
    "                \"peg_currency\": \"USD\"\n",
    "            }\n",
    "        ],\n",
    "        \"nfts\": [\n",
    "            {\n",
    "                \"name\": \"CryptoArt 123\",\n",
    "                \"quantity\": 1,\n",
    "                \"purchase_price\": 5000.00,\n",
    "                \"current_price\": 5500.00\n",
    "            }\n",
    "        ]\n",
    "    },\n",
    "    \"cash_holdings_usd\": 10000.00,\n",
    "    \"investment_goals\": {\"retirement\": 2035, \"education\": 2025}\n",
    "}\n",
    "```\n",
    "\n",
    "Q1: Read Data\n",
    "\n",
    "Task: Display the current price of the NFT \"CryptoArt 123\".\n",
    "\n",
    "Q2: Write Data  \n",
    "\n",
    "Task: Add a new token with ticker \"ADA\", 1000 units, a purchase price of 1.50, and a current price of 1.60 to the tokens in the assets.\n",
    "\n",
    "Q3: Update Data  \n",
    "\n",
    "Task: Update the quantity of \"ETH\" token to 60.\n",
    "\n",
    "Q4: Delete Data  \n",
    "\n",
    "Task: Remove the stablecoin with identifier \"USDC\" from the stablecoins in assets.\n",
    "\n",
    "Q5: Read Nested Data  \n",
    "\n",
    "Task: Display the peg currency of the stablecoin in the portfolio.\n",
    "\n",
    "Q6: Update Nested Data  \n",
    "\n",
    "Task: Change the current price of \"BTC\" token to 41500.00.\n",
    "\n",
    "Q7: Add Nested Data  \n",
    "\n",
    "Task: Add a new goal \"vacation\" set for the year 2028 in the investment goals.\n",
    "\n",
    "Q8: Delete an Item from a List Inside a Dictionary  \n",
    "\n",
    "Task: Remove the NFT \"CryptoArt 123\" from the portfolio.\n"
   ]
  },
  {
   "cell_type": "code",
   "execution_count": null,
   "id": "5d101b01",
   "metadata": {},
   "outputs": [
    {
     "name": "stdout",
     "output_type": "stream",
     "text": [
      "<class 'dict'>\n"
     ]
    }
   ],
   "source": [
    "crypto_portfolio = {\n",
    "    \"investor_name\": \"Jane Doe\",\n",
    "    \"portfolio_id\": \"JD1234\",\n",
    "    \"assets\": {\n",
    "        \"tokens\": [\n",
    "            {\n",
    "                \"ticker\": \"ETH\",\n",
    "                \"quantity\": 50,\n",
    "                \"purchase_price\": 2000.00,\n",
    "                \"current_price\": 2100.00\n",
    "            },\n",
    "            {\n",
    "                \"ticker\": \"BTC\",\n",
    "                \"quantity\": 30,\n",
    "                \"purchase_price\": 40000.00,\n",
    "                \"current_price\": 41000.00\n",
    "            }\n",
    "        ],\n",
    "        \"stablecoins\": [\n",
    "            {\n",
    "                \"identifier\": \"USDC\",\n",
    "                \"quantity\": 10000,\n",
    "                \"purchase_price\": 1.00,\n",
    "                \"current_price\": 1.00,\n",
    "                \"peg_currency\": \"USD\"\n",
    "            }\n",
    "        ],\n",
    "        \"nfts\": [\n",
    "            {\n",
    "                \"name\": \"CryptoArt 123\",\n",
    "                \"quantity\": 1,\n",
    "                \"purchase_price\": 5000.00,\n",
    "                \"current_price\": 5500.00\n",
    "            }\n",
    "        ]\n",
    "    },\n",
    "    \"cash_holdings_usd\": 10000.00,\n",
    "    \"investment_goals\": {\"retirement\": 2035, \"education\": 2025}\n",
    "}\n",
    "print(type(crypto_portfolio))"
   ]
  },
  {
   "cell_type": "code",
   "execution_count": null,
   "id": "147c7c30",
   "metadata": {},
   "outputs": [
    {
     "name": "stdout",
     "output_type": "stream",
     "text": [
      "5500.0\n"
     ]
    }
   ],
   "source": [
    "# Q1: Read Data, Task: Display the current price of the NFT \"CryptoArt 123\"\n",
    "print(crypto_portfolio['assets']['nfts'][0]['current_price'])\n"
   ]
  },
  {
   "cell_type": "code",
   "execution_count": 6,
   "id": "e42aac1a",
   "metadata": {},
   "outputs": [
    {
     "name": "stdout",
     "output_type": "stream",
     "text": [
      "{'investor_name': 'Jane Doe', 'portfolio_id': 'JD1234', 'assets': {'tokens': [{'ticker': 'ADA', 'quantity': 1000, 'purchase_price': 1.5, 'current_price': 1.6}]}, 'cash_holdings_usd': 10000.0, 'investment_goals': {'retirement': 2035, 'education': 2025}}\n"
     ]
    }
   ],
   "source": [
    "# Q2: Write Data, Task: Add a new token with ticker \"ADA\", 1000 units, a purchase price of 1.50, and a current price of 1.60 to the tokens in the assets.\n",
    "crypto_portfolio.update({\n",
    "    'assets': {\n",
    "        'tokens': [\n",
    "            {\n",
    "                'ticker': 'ADA',\n",
    "                'quantity': 1000,\n",
    "                'purchase_price': 1.50,\n",
    "                'current_price': 1.60\n",
    "            }\n",
    "        ]\n",
    "    }\n",
    "})\n",
    "print(crypto_portfolio)"
   ]
  },
  {
   "cell_type": "code",
   "execution_count": 8,
   "id": "05a7adc6",
   "metadata": {},
   "outputs": [
    {
     "name": "stdout",
     "output_type": "stream",
     "text": [
      "{'investor_name': 'Jane Doe', 'portfolio_id': 'JD1234', 'assets': {'tokens': [{'ticker': 'ADA', 'quantity': 60, 'purchase_price': 1.5, 'current_price': 1.6}]}, 'cash_holdings_usd': 10000.0, 'investment_goals': {'retirement': 2035, 'education': 2025}}\n"
     ]
    }
   ],
   "source": [
    "# Q3: Update Data, Task: Update the quantity of \"ETH\" token to 60.\n",
    "crypto_portfolio['assets']['tokens'][0]['quantity'] = 60\n",
    "print(crypto_portfolio)\n"
   ]
  },
  {
   "cell_type": "code",
   "execution_count": 4,
   "id": "a6081a90",
   "metadata": {},
   "outputs": [
    {
     "name": "stdout",
     "output_type": "stream",
     "text": [
      "{'investor_name': 'Jane Doe', 'portfolio_id': 'JD1234', 'assets': {'tokens': [{'ticker': 'ETH', 'quantity': 50, 'purchase_price': 2000.0, 'current_price': 2100.0}, {'ticker': 'BTC', 'quantity': 30, 'purchase_price': 40000.0, 'current_price': 41000.0}], 'stablecoins': [], 'nfts': [{'name': 'CryptoArt 123', 'quantity': 1, 'purchase_price': 5000.0, 'current_price': 5500.0}]}, 'cash_holdings_usd': 10000.0, 'investment_goals': {'retirement': 2035, 'education': 2025}}\n"
     ]
    }
   ],
   "source": [
    "# Q4: Delete Data, ask: Remove the stablecoin with identifier \"USDC\" from the stablecoins in ass\n",
    "crypto_portfolio['assets']['stablecoins'].pop (0)\n",
    "print(crypto_portfolio)"
   ]
  },
  {
   "cell_type": "code",
   "execution_count": 15,
   "id": "b1761734",
   "metadata": {},
   "outputs": [
    {
     "ename": "IndexError",
     "evalue": "list index out of range",
     "output_type": "error",
     "traceback": [
      "\u001b[31m---------------------------------------------------------------------------\u001b[39m",
      "\u001b[31mIndexError\u001b[39m                                Traceback (most recent call last)",
      "\u001b[36mCell\u001b[39m\u001b[36m \u001b[39m\u001b[32mIn[15]\u001b[39m\u001b[32m, line 2\u001b[39m\n\u001b[32m      1\u001b[39m \u001b[38;5;66;03m# Q5: Read Nested Data, Task: Display the peg currency of the stablecoin in the portfolio.\u001b[39;00m\n\u001b[32m----> \u001b[39m\u001b[32m2\u001b[39m \u001b[43mcrypto_portfolio\u001b[49m\u001b[43m[\u001b[49m\u001b[33;43m'\u001b[39;49m\u001b[33;43massets\u001b[39;49m\u001b[33;43m'\u001b[39;49m\u001b[43m]\u001b[49m\u001b[43m[\u001b[49m\u001b[33;43m'\u001b[39;49m\u001b[33;43mstablecoins\u001b[39;49m\u001b[33;43m'\u001b[39;49m\u001b[43m]\u001b[49m\u001b[43m[\u001b[49m\u001b[32;43m4\u001b[39;49m\u001b[43m]\u001b[49m[\u001b[33m'\u001b[39m\u001b[33mpeg_currency\u001b[39m\u001b[33m'\u001b[39m]\n\u001b[32m      3\u001b[39m \u001b[38;5;28mprint\u001b[39m(crypto_portfolio)\n",
      "\u001b[31mIndexError\u001b[39m: list index out of range"
     ]
    }
   ],
   "source": [
    "# Q5: Read Nested Data, Task: Display the peg currency of the stablecoin in the portfolio.\n",
    "crypto_portfolio['assets']['stablecoins'][4]['peg_currency']\n",
    "print(crypto_portfolio)"
   ]
  }
 ],
 "metadata": {
  "kernelspec": {
   "display_name": "pythonC (3.13.5)",
   "language": "python",
   "name": "python3"
  },
  "language_info": {
   "codemirror_mode": {
    "name": "ipython",
    "version": 3
   },
   "file_extension": ".py",
   "mimetype": "text/x-python",
   "name": "python",
   "nbconvert_exporter": "python",
   "pygments_lexer": "ipython3",
   "version": "3.13.5"
  }
 },
 "nbformat": 4,
 "nbformat_minor": 5
}
