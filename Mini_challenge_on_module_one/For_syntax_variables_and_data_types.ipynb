{
 "cells": [
  {
   "cell_type": "markdown",
   "id": "e2eb61a8",
   "metadata": {},
   "source": [
    "## Python Challenge: Simple Blockchain Transaction Tracker\n",
    "\n",
    "### Objectives:\n",
    "- You are given some basic transaction details from a blockchain explorer\n",
    "- You need to store them in variables, perform calculations, and print the results in a clean format\n",
    "\n",
    "### Your Task:\n",
    "\n",
    "1. Create variables for the following data (choose the right data types):\n",
    "\n",
    "   - `block_number` → 1856734\n",
    "   - `transaction_hash` → `\"0x9e1f8c2d5a4b7e6a0f91b8a3d1e0c4b2a6f7d5c4b3a2e1f0c9d8e7f6a5b4c3d2\"`\n",
    "   - `from_address` → `\"0xA1B2C3D4E5F6A7B8C9D0E1F2A3B4C5D6E7F8A9B0\"`\n",
    "   - `to_address` → `\"0xF1E2D3C4B5A697887766554433221100FFEEDDCC\"`\n",
    "   - `amount_eth` → 0.845 (in ETH)\n",
    "   - `eth_to_usd_rate` → 3200.50\n",
    "\n",
    "2. Calculate:\n",
    "\n",
    "   - The USD value of the transaction using `amount_eth` and `eth_to_usd_rate`.\n",
    "   - Store the result in a variable called `amount_usd`.\n",
    "\n",
    "3. Print out: The transaction details in a nicely formatted way like this:\n",
    "\n",
    "   ```\n",
    "   Transaction on Block 1856734\n",
    "   Hash: 0x9e1f8...\n",
    "   From: 0xA1B2...\n",
    "   To:   0xF1E2...\n",
    "   Amount: 0.845 ETH ($2704.42 USD)\n",
    "   ```\n",
    "\n",
    "Extra challenge (optional):\n",
    "\n",
    "- Format the USD value so it always shows two decimal places.\n",
    "- Show only the first 8 characters of the hash and addresses followed by `\"...\"` for readability.\n",
    "\n",
    "If you solve this, it will test:\n",
    "\n",
    "- Variables\n",
    "- Data types (int, float, string)\n",
    "- String formatting\n",
    "- Basic arithmetic operations\n"
   ]
  },
  {
   "cell_type": "markdown",
   "id": "b94cb53b",
   "metadata": {},
   "source": [
    "1. Variables, passing different types of variables , using the f-string and input function, and creating different data types"
   ]
  },
  {
   "cell_type": "code",
   "execution_count": 41,
   "id": "2e3aee58",
   "metadata": {},
   "outputs": [],
   "source": [
    "# Converting it to different variable types\n",
    "\n",
    "block_number = int(1856734)\n",
    "transaction_hash = str('0x9e1f8c2d5a4b7e6a0f91b8a3d1e0c4b2a6f7d5c4b3a2e1f0c9d8e7f6a5b4c3d2')\n",
    "from_address = str('0xA1B2C3D4E5F6A7B8C9D0E1F2A3B4C5D6E7F8A9B0')\n",
    "to_address = str('0xF1E2D3C4B5A697887766554433221100FFEEDDCC')\n",
    "amount_eth = float(0.845)\n",
    "eth_to_usd_rate = float(50)"
   ]
  },
  {
   "cell_type": "code",
   "execution_count": 42,
   "id": "40fa33ec",
   "metadata": {},
   "outputs": [
    {
     "name": "stdout",
     "output_type": "stream",
     "text": [
      "<class 'int'>\n",
      "<class 'str'>\n",
      "<class 'str'>\n",
      "<class 'str'>\n",
      "<class 'float'>\n",
      "<class 'float'>\n"
     ]
    }
   ],
   "source": [
    "# What type of variable it is\n",
    "\n",
    "print(type(block_number))\n",
    "print(type(transaction_hash))\n",
    "print(type(from_address))\n",
    "print(type(to_address))\n",
    "print(type(amount_eth))\n",
    "print(type(eth_to_usd_rate))"
   ]
  },
  {
   "cell_type": "code",
   "execution_count": 43,
   "id": "a781c57a",
   "metadata": {},
   "outputs": [
    {
     "name": "stdout",
     "output_type": "stream",
     "text": [
      "0.845 in ETH is equivalent to 50.0 in USD.\n"
     ]
    }
   ],
   "source": [
    "print(f'{amount_eth} in ETH is equivalent to {eth_to_usd_rate} in USD.')"
   ]
  },
  {
   "cell_type": "code",
   "execution_count": 44,
   "id": "cc80a320",
   "metadata": {},
   "outputs": [
    {
     "name": "stdout",
     "output_type": "stream",
     "text": [
      "I want to convert this amount of ETH 0.05\n"
     ]
    }
   ],
   "source": [
    "# Trying out the input function to get user input\n",
    "\n",
    "amount_eth = input('Enter the amount in ETH, you want to convert to USD')\n",
    "print('I want to convert this amount of ETH', amount_eth )\n"
   ]
  },
  {
   "cell_type": "code",
   "execution_count": 45,
   "id": "61078544",
   "metadata": {},
   "outputs": [
    {
     "name": "stdout",
     "output_type": "stream",
     "text": [
      "I want to convert this amount of 0.02 to USD\n"
     ]
    }
   ],
   "source": [
    "# Trying out the input function to get user input along side the f-string\n",
    "\n",
    "amount_eth = float(input('Enter the amount in ETH, you want to convert to USD'))\n",
    "print(f'I want to convert this amount of {amount_eth} to USD')"
   ]
  },
  {
   "cell_type": "code",
   "execution_count": 46,
   "id": "fabdee55",
   "metadata": {},
   "outputs": [
    {
     "name": "stdout",
     "output_type": "stream",
     "text": [
      "[1856734, '0x9e1f8c2d5a4b7e6a0f91b8a3d1e0c4b2a6f7d5c4b3a2e1f0c9d8e7f6a5b4c3d2', '0xA1B2C3D4E5F6A7B8C9D0E1F2A3B4C5D6E7F8A9B0', '0xF1E2D3C4B5A697887766554433221100FFEEDDCC', 0.02, 50.0]\n"
     ]
    }
   ],
   "source": [
    "# List example\n",
    "\n",
    "block_explorer = [block_number, transaction_hash, from_address, to_address, amount_eth, eth_to_usd_rate]\n",
    "print(block_explorer)"
   ]
  },
  {
   "cell_type": "code",
   "execution_count": 47,
   "id": "f259a629",
   "metadata": {},
   "outputs": [
    {
     "name": "stdout",
     "output_type": "stream",
     "text": [
      "<class 'list'>\n"
     ]
    }
   ],
   "source": [
    "print(type(block_explorer))"
   ]
  },
  {
   "cell_type": "code",
   "execution_count": 48,
   "id": "ba7d9a9d",
   "metadata": {},
   "outputs": [
    {
     "name": "stdout",
     "output_type": "stream",
     "text": [
      "{'0x9e1f8c2d5a4b7e6a0f91b8a3d1e0c4b2a6f7d5c4b3a2e1f0c9d8e7f6a5b4c3d2', '0xF1E2D3C4B5A697887766554433221100FFEEDDCC', 50.0, 0.02, '0xA1B2C3D4E5F6A7B8C9D0E1F2A3B4C5D6E7F8A9B0', 1856734}\n"
     ]
    }
   ],
   "source": [
    "# Tuple example\n",
    "\n",
    "tuple_block_explorer = (block_number, transaction_hash, from_address, to_address, amount_eth, eth_to_usd_rate)\n",
    "print(set_block_explorer)"
   ]
  },
  {
   "cell_type": "code",
   "execution_count": 49,
   "id": "0f7aa154",
   "metadata": {},
   "outputs": [
    {
     "name": "stdout",
     "output_type": "stream",
     "text": [
      "<class 'tuple'>\n"
     ]
    }
   ],
   "source": [
    "print(type(tuple_block_explorer))"
   ]
  },
  {
   "cell_type": "code",
   "execution_count": 50,
   "id": "b904d12d",
   "metadata": {},
   "outputs": [
    {
     "name": "stdout",
     "output_type": "stream",
     "text": [
      "{'block_number': '1856734', 'transaction_hash': '0x9e1f8c2d5a4b7e6a0f91b8a3d1e0c4b2a6f7d5c4b3a2e1f0c9d8e7f6a5b4c3d2', 'from_address': '0xA1B2C3D4E5F6A7B8C9D0E1F2A3B4C5D6E7F8A9B0', 'to_address': '0xF1E2D3C4B5A697887766554433221100FFEEDDCC', 'amount_eth': '0.845', 'eth_to_usd_rate': '50'}\n"
     ]
    }
   ],
   "source": [
    "# Dictionary example and also code block\n",
    "\n",
    "dict_block_explorer = {\n",
    "    'block_number': '1856734',\n",
    "    'transaction_hash': '0x9e1f8c2d5a4b7e6a0f91b8a3d1e0c4b2a6f7d5c4b3a2e1f0c9d8e7f6a5b4c3d2',\n",
    "    'from_address': '0xA1B2C3D4E5F6A7B8C9D0E1F2A3B4C5D6E7F8A9B0',\n",
    "    'to_address': '0xF1E2D3C4B5A697887766554433221100FFEEDDCC',\n",
    "    'amount_eth': '0.845',\n",
    "    'eth_to_usd_rate': '50'\n",
    "}\n",
    "\n",
    "print(dict_block_explorer)"
   ]
  },
  {
   "cell_type": "code",
   "execution_count": 51,
   "id": "cac68ab5",
   "metadata": {},
   "outputs": [
    {
     "name": "stdout",
     "output_type": "stream",
     "text": [
      "<class 'dict'>\n"
     ]
    }
   ],
   "source": [
    "print(type(dict_block_explorer))"
   ]
  },
  {
   "cell_type": "code",
   "execution_count": 52,
   "id": "f8757714",
   "metadata": {},
   "outputs": [
    {
     "name": "stdout",
     "output_type": "stream",
     "text": [
      "{'0x9e1f8c2d5a4b7e6a0f91b8a3d1e0c4b2a6f7d5c4b3a2e1f0c9d8e7f6a5b4c3d2', '0xF1E2D3C4B5A697887766554433221100FFEEDDCC', 50.0, 0.02, '0xA1B2C3D4E5F6A7B8C9D0E1F2A3B4C5D6E7F8A9B0', 1856734}\n"
     ]
    }
   ],
   "source": [
    "# Set data type example and also code block\n",
    "\n",
    "set_block_explorer = {block_number, transaction_hash, from_address, to_address, amount_eth, eth_to_usd_rate}\n",
    "\n",
    "print(set_block_explorer)"
   ]
  },
  {
   "cell_type": "code",
   "execution_count": 53,
   "id": "962fdb38",
   "metadata": {},
   "outputs": [
    {
     "name": "stdout",
     "output_type": "stream",
     "text": [
      "<class 'set'>\n"
     ]
    }
   ],
   "source": [
    "print(type(set_block_explorer))"
   ]
  },
  {
   "cell_type": "markdown",
   "id": "7b4b4b30",
   "metadata": {},
   "source": [
    "2. Calculate:\n",
    "\n",
    "   - The USD value of the transaction using `amount_eth` and `eth_to_usd_rate`.\n",
    "   - Store the result in a variable called `amount_usd`."
   ]
  },
  {
   "cell_type": "code",
   "execution_count": 57,
   "id": "98468234",
   "metadata": {},
   "outputs": [
    {
     "name": "stdout",
     "output_type": "stream",
     "text": [
      "The transaction of 0.845ETH is equivalent to $2704.0 USD at a rate of $3200 USD per ETH\n"
     ]
    }
   ],
   "source": [
    "# Variables\n",
    "block_number = 1856734\n",
    "transaction_hash = '0x9e1f8c2d5a4b7e6a0f91b8a3d1e0c4b2a6f7d5c4b3a2e1f0c9d8e7f6a5b4c3d2'\n",
    "from_address = '0xA1B2C3D4E5F6A7B8C9D0E1F2A3B4C5D6E7F8A9B0'\n",
    "to_address = '0xF1E2D3C4B5A697887766554433221100FFEEDDCC'\n",
    "amount_eth = 0.845\n",
    "eth_to_usd_rate = 3200  # No comma, just a plain integer\n",
    "\n",
    "# Calculate USD value\n",
    "amount_usd = amount_eth * eth_to_usd_rate\n",
    "\n",
    "print(f'The transaction of {amount_eth}ETH is equivalent to ${amount_usd} USD at a rate of ${eth_to_usd_rate} USD per ETH')\n"
   ]
  },
  {
   "cell_type": "markdown",
   "id": "1c2dcc23",
   "metadata": {},
   "source": [
    "3. Print out: The transaction details in a nicely formatted way:\n",
    "\n",
    "- Format the USD value so it always shows two decimal places.\n",
    "- Show only the first 8 characters of the hash and addresses followed by `\"...\"` for readability.\n"
   ]
  },
  {
   "cell_type": "code",
   "execution_count": null,
   "id": "da35bd7a",
   "metadata": {},
   "outputs": [
    {
     "ename": "SyntaxError",
     "evalue": "invalid decimal literal (3379638428.py, line 10)",
     "output_type": "error",
     "traceback": [
      "  \u001b[36mCell\u001b[39m\u001b[36m \u001b[39m\u001b[32mIn[2]\u001b[39m\u001b[32m, line 10\u001b[39m\n\u001b[31m    \u001b[39m\u001b[31mprint(f'Amount: {amount_eth}ETH (${amount_usd: num, ',.2f'} USD)')\u001b[39m\n                                                           ^\n\u001b[31mSyntaxError\u001b[39m\u001b[31m:\u001b[39m invalid decimal literal\n"
     ]
    }
   ],
   "source": [
    "# Format hash and addresses for readability (first 8 chars + ...)\n",
    "short_hash = transaction_hash[:8] + '...'\n",
    "short_from = from_address[:8] + '...'\n",
    "short_to = to_address[:8] + '...'\n",
    "\n",
    "print(f'Transaction on Block {block_number}')\n",
    "print(f'Hash: {short_hash}')\n",
    "print(f'From: {short_from}')\n",
    "print(f'To:   {short_to}')\n",
    "print(f'Amount: {amount_eth}ETH (${amount_usd:,.2f} USD)')\n"
   ]
  }
 ],
 "metadata": {
  "kernelspec": {
   "display_name": "pythonC (3.13.5)",
   "language": "python",
   "name": "python3"
  },
  "language_info": {
   "codemirror_mode": {
    "name": "ipython",
    "version": 3
   },
   "file_extension": ".py",
   "mimetype": "text/x-python",
   "name": "python",
   "nbconvert_exporter": "python",
   "pygments_lexer": "ipython3",
   "version": "3.13.5"
  }
 },
 "nbformat": 4,
 "nbformat_minor": 5
}
