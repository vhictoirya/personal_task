{
 "cells": [
  {
   "cell_type": "markdown",
   "id": "bdad6d88",
   "metadata": {},
   "source": [
    "### Practice on conditionals"
   ]
  },
  {
   "cell_type": "markdown",
   "id": "2a1d1f5e",
   "metadata": {},
   "source": [
    "1. NFT Mint Status Check\n",
    "\n",
    " Description: Check if an NFT is sold out or available for mint.\n",
    "\n",
    " Input: Total supply (e.g., 10,000), Minted count (e.g., 10,000)\n",
    " \n",
    " Output: Sold Out"
   ]
  },
  {
   "cell_type": "code",
   "execution_count": 2,
   "id": "26ba5fa5",
   "metadata": {},
   "outputs": [
    {
     "name": "stdout",
     "output_type": "stream",
     "text": [
      "NFT is sold out and not available for purchase.\n"
     ]
    }
   ],
   "source": [
    "nft_total_supply = 10000\n",
    "nft_current_supply = 0\n",
    "\n",
    "if nft_total_supply > 9500 and nft_current_supply == 0:\n",
    "    print('NFT is sold out and not available for purchase.')\n",
    "elif nft_current_supply < 9000 or nft_current_supply > 0:\n",
    "    print('NFT is available for purchase.')\n",
    "else:\n",
    "    print('NFT is not available for purchase.')\n"
   ]
  },
  {
   "cell_type": "markdown",
   "id": "681aac78",
   "metadata": {},
   "source": [
    "2. Stablecoin Health Check\n",
    "\n",
    " Description: Determine if a stablecoin is depegged (if price deviates from $1 by more than ±5%).\n",
    "\n",
    " Input: Stablecoin price (e.g., 0.93)\n",
    " \n",
    " Output: Depegged"
   ]
  },
  {
   "cell_type": "code",
   "execution_count": 4,
   "id": "a2c26459",
   "metadata": {},
   "outputs": [
    {
     "name": "stdout",
     "output_type": "stream",
     "text": [
      "USDT is depegged\n"
     ]
    }
   ],
   "source": [
    "usdt = 0.8\n",
    "depegged = True\n",
    "\n",
    "if usdt > 0.95 and depegged:\n",
    "    print('USDT is pegged')\n",
    "elif usdt < 0.95 or not depegged:\n",
    "    print('USDT is depegged')\n",
    "else:\n",
    "    print('USDT is might depeg more')\n",
    "    "
   ]
  },
  {
   "cell_type": "markdown",
   "id": "949cc3b6",
   "metadata": {},
   "source": [
    "3. Reward Eligibility\n",
    "\n",
    " Description: Check if a user qualifies for staking rewards (must stake ≥ 500 tokens).\n",
    "\n",
    " Input: Tokens staked (e.g., 300)\n",
    " \n",
    " Output: Not eligible"
   ]
  },
  {
   "cell_type": "code",
   "execution_count": 6,
   "id": "cf853157",
   "metadata": {},
   "outputs": [
    {
     "name": "stdout",
     "output_type": "stream",
     "text": [
      "Did not stake upto the expected amount or not eligible\n"
     ]
    }
   ],
   "source": [
    "tokens_staked = 500\n",
    "is_eligible = False\n",
    "\n",
    "if tokens_staked > 400 and is_eligible:\n",
    "    print('Eligible for staking rewards')\n",
    "elif tokens_staked < 400 or not is_eligible:\n",
    "    print('Did not stake upto the expected amount or not eligible')\n",
    "else:\n",
    "    print('Not eligible')"
   ]
  },
  {
   "cell_type": "code",
   "execution_count": 7,
   "id": "eb2f834a",
   "metadata": {},
   "outputs": [
    {
     "name": "stdout",
     "output_type": "stream",
     "text": [
      "Not eligible\n"
     ]
    }
   ],
   "source": [
    "tokens_staked = 500\n",
    "is_eligible = False\n",
    "\n",
    "if tokens_staked > 400 and is_eligible:\n",
    "    print('Eligible for staking rewards')\n",
    "elif tokens_staked < 400 or is_eligible:\n",
    "    print('Did not stake upto the expected amount or not eligible')\n",
    "else:\n",
    "    print('Not eligible')"
   ]
  },
  {
   "cell_type": "markdown",
   "id": "d3e40a9c",
   "metadata": {},
   "source": [
    "4. Airdrop Eligibility\n",
    "\n",
    " Description: Check if a wallet is eligible for airdrop (must hold a specific token and have at least 5 transactions).\n",
    "\n",
    " Input: Holdings (e.g., 100), Number of transactions (e.g., 6)\n",
    " \n",
    " Output: Eligible"
   ]
  },
  {
   "cell_type": "code",
   "execution_count": 8,
   "id": "79e06c60",
   "metadata": {},
   "outputs": [
    {
     "name": "stdout",
     "output_type": "stream",
     "text": [
      "Has more than 5 transactions and is eligible for airdrop\n"
     ]
    }
   ],
   "source": [
    "transaction = 6\n",
    "eligible = True\n",
    "\n",
    "if transaction > 5 and eligible:\n",
    "    print('Has more than 5 transactions and is eligible for airdrop')\n",
    "elif transaction < 5 or not eligible:\n",
    "    print('Has less than 5 transactions or is not eligible for airdrop')\n",
    "else:\n",
    "    print('Unknown eligibility status')"
   ]
  },
  {
   "cell_type": "markdown",
   "id": "2f3f5793",
   "metadata": {},
   "source": [
    "5. Transaction Fee Efficiency\n",
    "\n",
    " Description: Flag if a transaction fee is greater than 5% of transaction amount.\n",
    "\n",
    " Input: Fee (e.g., 3), Transaction amount (e.g., 50)\n",
    " \n",
    " Output: Efficient\n"
   ]
  },
  {
   "cell_type": "code",
   "execution_count": 9,
   "id": "0a6c0f85",
   "metadata": {},
   "outputs": [
    {
     "name": "stdout",
     "output_type": "stream",
     "text": [
      "The transaction fee is exactly 5% of the transaction amount\n"
     ]
    }
   ],
   "source": [
    "transaction_fee = 5\n",
    "transaction_amount = 100\n",
    "\n",
    "if transaction_fee > 5 and transaction_amount > 100:\n",
    "    print('The transaction fee is greater than 5% of the transaction amount')\n",
    "elif transaction_fee == 5 or transaction_amount == 100:\n",
    "    print('The transaction fee is exactly 5% of the transaction amount')\n",
    "else:\n",
    "    print('The transaction fee is less than 5% of the transaction amount')"
   ]
  },
  {
   "cell_type": "markdown",
   "id": "6c984e68",
   "metadata": {},
   "source": [
    "### Practice on loops"
   ]
  },
  {
   "cell_type": "markdown",
   "id": "f84eebed",
   "metadata": {},
   "source": [
    "1. Average Number of Tokens Held\n",
    "\n",
    " Description: Calculate the average number of tokens held across wallets.\n",
    "\n",
    " Input: List of token holdings per wallet (e.g., [100, 200, 150, 300])\n",
    " \n",
    " Output: Average tokens held (e.g., 187.5)"
   ]
  },
  {
   "cell_type": "code",
   "execution_count": 13,
   "id": "cac9f974",
   "metadata": {},
   "outputs": [
    {
     "name": "stdout",
     "output_type": "stream",
     "text": [
      "750\n",
      "187.5\n"
     ]
    }
   ],
   "source": [
    "token_amount_held = [100, 200, 150, 300]\n",
    "\n",
    "total = 0\n",
    "\n",
    "for amount in token_amount_held:\n",
    "    total += amount\n",
    "print(total)\n",
    "\n",
    "avg = total/len(token_amount_held)\n",
    "print(avg)"
   ]
  },
  {
   "cell_type": "markdown",
   "id": "cde75b02",
   "metadata": {},
   "source": [
    "2. Wallets Above Holding Threshold\n",
    "\n",
    " Description: Count the number of wallets holding more than 100 tokens.\n",
    "\n",
    " Input: List of holdings (e.g., [50, 150, 120, 80, 200])\n",
    " \n",
    " Output: Number of wallets above threshold (e.g., 3 wallets)"
   ]
  },
  {
   "cell_type": "code",
   "execution_count": null,
   "id": "fca47296",
   "metadata": {},
   "outputs": [
    {
     "name": "stdout",
     "output_type": "stream",
     "text": [
      "Number of wallets holding more than 100 tokens: 3\n"
     ]
    }
   ],
   "source": [
    "wallet_holdings = [50, 150, 120, 80, 200]\n",
    "threshold = 100\n",
    "\n",
    "count = 0 # Counter for wallets above threshold\n",
    "\n",
    "for tokens in wallet_holdings:\n",
    "    if tokens > threshold:\n",
    "        count +=1\n",
    "\n",
    "print(f'Number of wallets holding more than {threshold} tokens: {count}')"
   ]
  },
  {
   "cell_type": "markdown",
   "id": "0b9443e1",
   "metadata": {},
   "source": [
    "3. Total Gas Spent by Wallets\n",
    "\n",
    " Description: Calculate total gas used by multiple wallets across transactions.\n",
    "\n",
    " Input: List of gas used per wallet (e.g., [21000, 50000, 32000])\n",
    " \n",
    " Output: Total gas used (e.g., 103000)"
   ]
  },
  {
   "cell_type": "code",
   "execution_count": 15,
   "id": "3d556ab2",
   "metadata": {},
   "outputs": [
    {
     "name": "stdout",
     "output_type": "stream",
     "text": [
      "103000\n"
     ]
    }
   ],
   "source": [
    "gas_used = [21000, 50000, 32000]\n",
    "\n",
    "total = 0\n",
    "\n",
    "for gas in gas_used:\n",
    "    total += gas\n",
    "print(total)"
   ]
  },
  {
   "cell_type": "markdown",
   "id": "8e97c6a6",
   "metadata": {},
   "source": [
    "4. Cumulative Token Airdrop\n",
    "\n",
    " Description: Calculate the total tokens distributed in an airdrop across multiple addresses.\n",
    "\n",
    " Input: List of airdrop amounts (e.g., [50, 75, 100, 25])\n",
    " \n",
    " Output: Total tokens distributed (e.g., 250)"
   ]
  },
  {
   "cell_type": "code",
   "execution_count": 16,
   "id": "c5a5fbd1",
   "metadata": {},
   "outputs": [
    {
     "name": "stdout",
     "output_type": "stream",
     "text": [
      "250\n"
     ]
    }
   ],
   "source": [
    "airdrop_amounts = [50, 75, 100, 25]\n",
    "\n",
    "total = 0\n",
    "\n",
    "for i in range(len(airdrop_amounts)):\n",
    "    total += airdrop_amounts[i]\n",
    "\n",
    "print(total)"
   ]
  },
  {
   "cell_type": "markdown",
   "id": "73a9e2a4",
   "metadata": {},
   "source": [
    "5. Average Bridge Fee Across Chains\n",
    "\n",
    " Description: Find the average fee users pay when bridging tokens across chains.\n",
    "\n",
    " Input: List of fees (e.g., [1.2, 0.8, 1.0, 1.5])\n",
    " \n",
    " Output: Average fee (e.g., 1.125)"
   ]
  },
  {
   "cell_type": "code",
   "execution_count": 17,
   "id": "d39d36cc",
   "metadata": {},
   "outputs": [
    {
     "name": "stdout",
     "output_type": "stream",
     "text": [
      "1.125\n"
     ]
    }
   ],
   "source": [
    "bridge_fees = [1.2, 0.8, 1.0, 1.5]\n",
    "\n",
    "total = 0\n",
    "\n",
    "for fee in bridge_fees:\n",
    "    total += fee\n",
    "\n",
    "print(total/len(bridge_fees))"
   ]
  }
 ],
 "metadata": {
  "kernelspec": {
   "display_name": "pythonC (3.13.5)",
   "language": "python",
   "name": "python3"
  },
  "language_info": {
   "codemirror_mode": {
    "name": "ipython",
    "version": 3
   },
   "file_extension": ".py",
   "mimetype": "text/x-python",
   "name": "python",
   "nbconvert_exporter": "python",
   "pygments_lexer": "ipython3",
   "version": "3.13.5"
  }
 },
 "nbformat": 4,
 "nbformat_minor": 5
}
