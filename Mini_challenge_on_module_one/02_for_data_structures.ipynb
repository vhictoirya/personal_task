{
 "cells": [
  {
   "cell_type": "markdown",
   "id": "b1d06654",
   "metadata": {},
   "source": [
    "Problem 1: Crypto Investment Portfolio\n",
    "\n",
    "This data structure represents a crypto investment portfolio, including various assets like tokens, stablecoins, and NFTs, along with their holdings and performance metrics.\n",
    "\n",
    "Q1: Read Data  \n",
    "Task: Display the current price of the NFT \"CryptoArt 123\".\n",
    "\n",
    "Q2: Write Data  \n",
    "Task: Add a new token with ticker \"ADA\", 1000 units, a purchase price of 1.50, and a current price of 1.60 to the tokens in the assets.\n",
    "\n",
    "Q3: Update Data  \n",
    "Task: Update the quantity of \"ETH\" token to 60.\n",
    "\n",
    "Q4: Delete Data  \n",
    "Task: Remove the stablecoin with identifier \"USDC\" from the stablecoins in assets.\n",
    "\n",
    "Q5: Read Nested Data  \n",
    "Task: Display the peg currency of the stablecoin in the portfolio.\n",
    "\n",
    "Q6: Update Nested Data  \n",
    "Task: Change the current price of \"BTC\" token to 41500.00.\n",
    "\n",
    "Q7: Add Nested Data  \n",
    "Task: Add a new goal \"vacation\" set for the year 2028 in the investment goals.\n",
    "\n",
    "Q8: Delete an Item from a List Inside a Dictionary  \n",
    "Task: Remove the NFT \"CryptoArt 123\" from the portfolio."
   ]
  },
  {
   "cell_type": "code",
   "execution_count": 90,
   "id": "fd392085",
   "metadata": {},
   "outputs": [],
   "source": [
    "crypto_portfolio = {\n",
    "    \"investor_name\": \"Jane Doe\",\n",
    "    \"portfolio_id\": \"JD1234\",\n",
    "    \"assets\": {\n",
    "        \"tokens\": [\n",
    "            {\n",
    "                \"ticker\": \"ETH\",\n",
    "                \"quantity\": 50,\n",
    "                \"purchase_price\": 2000.00,\n",
    "                \"current_price\": 2100.00\n",
    "            },\n",
    "            {\n",
    "                \"ticker\": \"BTC\",\n",
    "                \"quantity\": 30,\n",
    "                \"purchase_price\": 40000.00,\n",
    "                \"current_price\": 41000.00\n",
    "            }\n",
    "        ],\n",
    "        \"stablecoins\": [\n",
    "            {\n",
    "                \"identifier\": \"USDC\",\n",
    "                \"quantity\": 10000,\n",
    "                \"purchase_price\": 1.00,\n",
    "                \"current_price\": 1.00,\n",
    "                \"peg_currency\": \"USD\"\n",
    "            }\n",
    "        ],\n",
    "        \"nfts\": [\n",
    "            {\n",
    "                \"name\": \"CryptoArt 123\",\n",
    "                \"quantity\": 1,\n",
    "                \"purchase_price\": 5000.00,\n",
    "                \"current_price\": 5500.00\n",
    "            }\n",
    "        ]\n",
    "    },\n",
    "    \"cash_holdings_usd\": 10000.00,\n",
    "    \"investment_goals\": {\"retirement\": 2035, \"education\": 2025}\n",
    "}"
   ]
  },
  {
   "cell_type": "code",
   "execution_count": 91,
   "id": "a95fdfae",
   "metadata": {},
   "outputs": [],
   "source": [
    "# The above crypto_portfolio data structure includes:\n",
    "# Dictionary: With a key- value pair (investor_name, portfolio_id, assets, cash_holdings_usd, investment_goals)\n",
    "# List of dict: Each dict represents a specific assets (tokens, stablecoins, nfts)\n",
    "# Nested dictionary: Each asset type contains its own specific attributes (tickers, quantity, price)"
   ]
  },
  {
   "cell_type": "code",
   "execution_count": 92,
   "id": "26c8c39e",
   "metadata": {},
   "outputs": [
    {
     "data": {
      "text/plain": [
       "5500.0"
      ]
     },
     "execution_count": 92,
     "metadata": {},
     "output_type": "execute_result"
    }
   ],
   "source": [
    "# Q1: Read Data  \n",
    "# Task: Display the current price of the NFT \"CryptoArt 123\".\n",
    "# In the data structure (tokens, stablecoins, nfts) are different list entries od dict, so i index them separately\n",
    "\n",
    "crypto_portfolio[\"assets\"][\"nfts\"][0][\"current_price\"]"
   ]
  },
  {
   "cell_type": "code",
   "execution_count": 93,
   "id": "149003b5",
   "metadata": {},
   "outputs": [
    {
     "name": "stdout",
     "output_type": "stream",
     "text": [
      "[{'ticker': 'ETH', 'quantity': 50, 'purchase_price': 2000.0, 'current_price': 2100.0}, {'ticker': 'BTC', 'quantity': 30, 'purchase_price': 40000.0, 'current_price': 41000.0}, {'ticker': 'ADA', 'quantity': 1000, 'purchase_price': 1.5, 'current_price': 1.6}]\n"
     ]
    }
   ],
   "source": [
    "# Q2: Write Data  \n",
    "# Task: Add a new token with ticker \"ADA\", 1000 units, a purchase price of 1.50, and a current price of 1.60 to the tokens in the assets.\n",
    "\n",
    "new_token = {\n",
    "    \"ticker\": \"ADA\",\n",
    "    \"quantity\": 1000,\n",
    "    \"purchase_price\": 1.50,\n",
    "    \"current_price\": 1.60\n",
    "}\n",
    "\n",
    "crypto_portfolio[\"assets\"][\"tokens\"].append(new_token)\n",
    "print(crypto_portfolio[\"assets\"][\"tokens\"])"
   ]
  },
  {
   "cell_type": "code",
   "execution_count": 94,
   "id": "75be15f6",
   "metadata": {},
   "outputs": [
    {
     "name": "stdout",
     "output_type": "stream",
     "text": [
      "[{'ticker': 'ETH', 'quantity': 60, 'purchase_price': 2000.0, 'current_price': 2100.0}, {'ticker': 'BTC', 'quantity': 30, 'purchase_price': 40000.0, 'current_price': 41000.0}, {'ticker': 'ADA', 'quantity': 1000, 'purchase_price': 1.5, 'current_price': 1.6}]\n"
     ]
    }
   ],
   "source": [
    "# Q3: Update Data  \n",
    "# Task: Update the quantity of \"ETH\" token to 60.\n",
    "\n",
    "crypto_portfolio[\"assets\"][\"tokens\"][0][\"quantity\"] = 60\n",
    "print(crypto_portfolio[\"assets\"][\"tokens\"])"
   ]
  },
  {
   "cell_type": "code",
   "execution_count": 95,
   "id": "b09da7ea",
   "metadata": {},
   "outputs": [
    {
     "name": "stdout",
     "output_type": "stream",
     "text": [
      "[{'quantity': 10000, 'purchase_price': 1.0, 'current_price': 1.0, 'peg_currency': 'USD'}]\n"
     ]
    }
   ],
   "source": [
    "# Q4: Delete Data  \n",
    "# Task: Remove the stablecoin with identifier \"USDC\" from the stablecoins in assets\n",
    "\n",
    "for stablecoin in crypto_portfolio[\"assets\"][\"stablecoins\"]:\n",
    "    if stablecoin.get(\"identifier\") == \"USDC\":\n",
    "        stablecoin.pop(\"identifier\", None)  # Remove the key if it exists\n",
    "\n",
    "print(crypto_portfolio[\"assets\"][\"stablecoins\"])"
   ]
  },
  {
   "cell_type": "code",
   "execution_count": 96,
   "id": "43b3f27c",
   "metadata": {},
   "outputs": [],
   "source": [
    "# Q5: Delete Data  \n",
    "# Task: Remove the stablecoin with identifier \"USDC\" from the stablecoins in assets\n",
    "# An empty list will be returned if no stablecoin is found\n",
    "\n",
    "#crypto_portfolio[\"assets\"][\"stablecoins\"] = [\n",
    "#    sc for sc in crypto_portfolio[\"assets\"][\"stablecoins\"]\n",
    "#    if sc[\"identifier\"] != \"USDC\"\n",
    "# ]\n",
    "#print(crypto_portfolio[\"assets\"][\"stablecoins\"])\n",
    "\n",
    "# Or\n",
    "# Find the USDC stablecoin dictionary\n",
    "# usdc_coin = None\n",
    "#for coin in crypto_portfolio[\"assets\"][\"stablecoins\"]:\n",
    "#    if coin[\"identifier\"] == \"USDC\":\n",
    "#        usdc_coin = coin\n",
    "#        break  # stop once we find it\n",
    "\n",
    "# Remove it from the list if found\n",
    "#if usdc_coin:\n",
    "#    crypto_portfolio[\"assets\"][\"stablecoins\"].remove(usdc_coin)\n",
    "\n",
    "# This clears out everything in the stablecoin dict"
   ]
  },
  {
   "cell_type": "code",
   "execution_count": 97,
   "id": "ecbe8986",
   "metadata": {},
   "outputs": [
    {
     "name": "stdout",
     "output_type": "stream",
     "text": [
      "USD\n"
     ]
    }
   ],
   "source": [
    "# Q5: Read Nested Data  \n",
    "# Task: Display the peg currency of the stablecoin in the portfolio.\n",
    "\n",
    "stablecoin_peg = crypto_portfolio[\"assets\"][\"stablecoins\"][0][\"peg_currency\"]\n",
    "print(stablecoin_peg)"
   ]
  },
  {
   "cell_type": "code",
   "execution_count": 98,
   "id": "9905910b",
   "metadata": {},
   "outputs": [
    {
     "name": "stdout",
     "output_type": "stream",
     "text": [
      "[{'ticker': 'ETH', 'quantity': 60, 'purchase_price': 2000.0, 'current_price': 2100.0}, {'ticker': 'BTC', 'quantity': 30, 'purchase_price': 40000.0, 'current_price': 41500.0}, {'ticker': 'ADA', 'quantity': 1000, 'purchase_price': 1.5, 'current_price': 1.6}]\n"
     ]
    }
   ],
   "source": [
    "# Q6: Update Nested Data  \n",
    "# Task: Change the current price of \"BTC\" token to 41500.00.\n",
    "\n",
    "crypto_portfolio[\"assets\"][\"tokens\"][1][\"current_price\"] = 41500.00\n",
    "print(crypto_portfolio[\"assets\"][\"tokens\"])"
   ]
  },
  {
   "cell_type": "code",
   "execution_count": null,
   "id": "5f21a01a",
   "metadata": {},
   "outputs": [
    {
     "name": "stdout",
     "output_type": "stream",
     "text": [
      "{'investor_name': 'Jane Doe', 'portfolio_id': 'JD1234', 'assets': {'tokens': [{'ticker': 'ETH', 'quantity': 60, 'purchase_price': 2000.0, 'current_price': 2100.0}, {'ticker': 'BTC', 'quantity': 30, 'purchase_price': 40000.0, 'current_price': 41500.0}, {'ticker': 'ADA', 'quantity': 1000, 'purchase_price': 1.5, 'current_price': 1.6}], 'stablecoins': [{'quantity': 10000, 'purchase_price': 1.0, 'current_price': 1.0, 'peg_currency': 'USD'}], 'nfts': [{'name': 'CryptoArt 123', 'quantity': 1, 'purchase_price': 5000.0, 'current_price': 5500.0}]}, 'cash_holdings_usd': 10000.0, 'investment_goals': {'retirement': 2035, 'education': 2025, 'vacation': {'year': 2028, 'budget': 3000, 'current_savings': 300}}}\n"
     ]
    }
   ],
   "source": [
    "# Q7: Add Nested Data  \n",
    "# Task: Add a new goal \"vacation\" set for the year 2028 in the investment goals.\n",
    "\n",
    "crypto_portfolio[\"investment_goals\"][\"vacation\"] = {\n",
    "    \"year\": 2028,\n",
    "    \"budget\": 3000,\n",
    "    \"current_savings\": 300\n",
    "}\n",
    "print(crypto_portfolio)"
   ]
  },
  {
   "cell_type": "code",
   "execution_count": null,
   "id": "0a87767a",
   "metadata": {},
   "outputs": [
    {
     "name": "stdout",
     "output_type": "stream",
     "text": [
      "[{'quantity': 1, 'purchase_price': 5000.0, 'current_price': 5500.0}]\n"
     ]
    }
   ],
   "source": [
    "# Q8: Delete an Item from a List Inside a Dictionary  \n",
    "#Task: Remove the NFT \"CryptoArt 123\" from the portfolio.\n",
    "\n",
    "for nft in crypto_portfolio[\"assets\"][\"nfts\"]:\n",
    "    if nft.get(\"name\") == \"CryptoArt 123\":\n",
    "        nft.pop(\"name\", None)\n",
    "\n",
    "print(crypto_portfolio[\"assets\"][\"nfts\"])\n"
   ]
  }
 ],
 "metadata": {
  "kernelspec": {
   "display_name": "pythonC (3.13.5)",
   "language": "python",
   "name": "python3"
  },
  "language_info": {
   "codemirror_mode": {
    "name": "ipython",
    "version": 3
   },
   "file_extension": ".py",
   "mimetype": "text/x-python",
   "name": "python",
   "nbconvert_exporter": "python",
   "pygments_lexer": "ipython3",
   "version": "3.13.5"
  }
 },
 "nbformat": 4,
 "nbformat_minor": 5
}
